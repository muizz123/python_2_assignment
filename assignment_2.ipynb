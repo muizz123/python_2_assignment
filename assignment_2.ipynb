{
 "cells": [
  {
   "cell_type": "markdown",
   "id": "47710e4e",
   "metadata": {},
   "source": [
    "# Write a program that swaps the values of two variables."
   ]
  },
  {
   "cell_type": "code",
   "execution_count": 28,
   "id": "6c0a8b27",
   "metadata": {},
   "outputs": [
    {
     "name": "stdout",
     "output_type": "stream",
     "text": [
      "Value of x = 5\n",
      "Value of y = 6\n",
      "The value of x before swap is 5\n",
      "The value of y before swap is 6\n",
      "The value of x after swap is 6\n",
      "The value of y bafter swap is 5\n"
     ]
    }
   ],
   "source": [
    "\n",
    "x = int(input('Value of x = '))\n",
    "y = int(input('Value of y = '))\n",
    "print('The value of x before swap is {}'.format(x))\n",
    "print('The value of y before swap is {}'.format(y))\n",
    "temp = x\n",
    "x = y\n",
    "y = temp\n",
    "print('The value of x after swap is {}'.format(x))\n",
    "print('The value of y bafter swap is {}'.format(y))"
   ]
  },
  {
   "cell_type": "markdown",
   "id": "e602eed5",
   "metadata": {},
   "source": [
    "# Write a program that calculates the area of a rectangle given its length and width."
   ]
  },
  {
   "cell_type": "code",
   "execution_count": 23,
   "id": "5d9f686d",
   "metadata": {},
   "outputs": [
    {
     "name": "stdout",
     "output_type": "stream",
     "text": [
      "Input the length of the rectangle is = 10\n",
      "Input the width of the rectangle is = 15\n",
      "Calculated rectangle area is = 150\n"
     ]
    }
   ],
   "source": [
    "length = int(input('Input the length of the rectangle is = '))\n",
    "width = int(input('Input the width of the rectangle is = '))\n",
    "rectangle_area = length * width\n",
    "print('Calculated rectangle area is = {}'.format(rectangle_area))"
   ]
  },
  {
   "cell_type": "markdown",
   "id": "4a7616bc",
   "metadata": {},
   "source": [
    "# Write a program that converts temperature from Fahrenheit to Celsius."
   ]
  },
  {
   "cell_type": "code",
   "execution_count": 27,
   "id": "d7726480",
   "metadata": {},
   "outputs": [
    {
     "name": "stdout",
     "output_type": "stream",
     "text": [
      "Input temperature in fahrenheit 180\n",
      "Temperature in Celsius is = 82.22222222222221\n"
     ]
    }
   ],
   "source": [
    "tem_fahrenheeit = int(input('Input temperature in fahrenheit '))\n",
    "tem_cel = (tem_fahrenheeit-32)/1.8\n",
    "print ('Temperature in Celsius is = {}'.format(tem_cel))"
   ]
  },
  {
   "cell_type": "markdown",
   "id": "eb4cd8fe",
   "metadata": {},
   "source": [
    "# Write a program that calculates the volume of a sphere given its radius."
   ]
  },
  {
   "cell_type": "code",
   "execution_count": 33,
   "id": "7c1eb8dc",
   "metadata": {},
   "outputs": [
    {
     "name": "stdout",
     "output_type": "stream",
     "text": [
      "Input the radius of the sphere = 10\n",
      "The volume of the Sphere is = 4188.799999999999\n"
     ]
    }
   ],
   "source": [
    "radius = int(input('Input the radius of the sphere = '))\n",
    "r = radius**3\n",
    "pi = 3.1416\n",
    "v = (4/3)*pi*r\n",
    "print ('The volume of the Sphere is = {}'.format(v))"
   ]
  },
  {
   "cell_type": "markdown",
   "id": "965a65f5",
   "metadata": {},
   "source": [
    "# Write a program that finds the average of three numbers."
   ]
  },
  {
   "cell_type": "code",
   "execution_count": 35,
   "id": "a726162a",
   "metadata": {},
   "outputs": [
    {
     "name": "stdout",
     "output_type": "stream",
     "text": [
      "Input the first Number = 10\n",
      "Input the second Number = 20\n",
      "Input the third Number = 30\n",
      "The average of three numbers is = 20.0\n"
     ]
    }
   ],
   "source": [
    "first_number = int(input('Input the first Number = '))\n",
    "second_number = int(input('Input the second Number = '))\n",
    "third_number = int(input('Input the third Number = '))\n",
    "average_number =(first_number+second_number+third_number)/3\n",
    "print('The average of three numbers is = {}'.format(average_number))"
   ]
  },
  {
   "cell_type": "markdown",
   "id": "03d32015",
   "metadata": {},
   "source": [
    "# Write a program that determines if a number is even or odd."
   ]
  },
  {
   "cell_type": "code",
   "execution_count": 43,
   "id": "bbb3b125",
   "metadata": {},
   "outputs": [
    {
     "name": "stdout",
     "output_type": "stream",
     "text": [
      "Enter the number = 2\n",
      "The number is Even\n"
     ]
    }
   ],
   "source": [
    "x = int(input('Enter the number = '))\n",
    "if x%2==0:\n",
    "    print('The number is Even')\n",
    "else :\n",
    "    print('The number is odd')"
   ]
  },
  {
   "cell_type": "markdown",
   "id": "a3516f91",
   "metadata": {},
   "source": [
    "# Write a program that finds the maximum of three numbers."
   ]
  },
  {
   "cell_type": "code",
   "execution_count": 47,
   "id": "37e19cf7",
   "metadata": {},
   "outputs": [
    {
     "name": "stdout",
     "output_type": "stream",
     "text": [
      "x num = 10\n",
      "y num = 1\n",
      "z num = 3\n",
      "x is the maximum number\n"
     ]
    }
   ],
   "source": [
    "x= int (input('x num = '))\n",
    "y = int (input('y num = '))\n",
    "z = int(input('z num = '))\n",
    "\n",
    "if x>y and x>z : \n",
    "    print ('x is the maximum number')\n",
    "elif y>x and y>z: \n",
    "    print ('y is the maximum number')\n",
    "else :\n",
    "    print ('z is the maximum number')"
   ]
  },
  {
   "cell_type": "markdown",
   "id": "c30b8911",
   "metadata": {},
   "source": [
    "# Write a program that determines if a year is a leap year or not."
   ]
  },
  {
   "cell_type": "code",
   "execution_count": 4,
   "id": "6c640a80",
   "metadata": {},
   "outputs": [
    {
     "name": "stdout",
     "output_type": "stream",
     "text": [
      "Enter the year positive value = 2024\n",
      "The year is a Leap year\n"
     ]
    }
   ],
   "source": [
    "year = int(input('Enter the year positive value = '))\n",
    "if year >0:\n",
    "    if year%4==0:\n",
    "        print ('The year is a Leap year')\n",
    "    else : \n",
    "        print('The year is not a Leap year')\n",
    "else :\n",
    "    print ('The year should be positive value')"
   ]
  },
  {
   "cell_type": "markdown",
   "id": "e2631102",
   "metadata": {},
   "source": [
    "# Write a program that determines if a number is positive, negative, or zero."
   ]
  },
  {
   "cell_type": "code",
   "execution_count": null,
   "id": "1ff22bec",
   "metadata": {},
   "outputs": [],
   "source": [
    "x = int (input('Enter the Number = '))\n",
    "if x>0 :\n",
    "    print ('The number is positive')\n",
    "elif x<0 :\n",
    "    print ('The number is negative')\n",
    "elif x==0:\n",
    "    print ('The number is zero')"
   ]
  },
  {
   "cell_type": "markdown",
   "id": "eda284d0",
   "metadata": {},
   "source": [
    "# Write a program that calculates the grade based on a given percentage."
   ]
  },
  {
   "cell_type": "code",
   "execution_count": 9,
   "id": "6c307959",
   "metadata": {},
   "outputs": [
    {
     "name": "stdout",
     "output_type": "stream",
     "text": [
      "Enter percentage in positive value and less than 100\n",
      "Percentage is = 0\n",
      "Grade is F\n"
     ]
    }
   ],
   "source": [
    "print('Enter percentage in positive value and less than 100')\n",
    "x = int (input('Percentage is = '))\n",
    "if x>=0 and x<100:\n",
    "    if x>=80:\n",
    "        print ('Grade is A')\n",
    "    elif x>=70:\n",
    "        print('Grade is B')\n",
    "    elif x>=60:\n",
    "        print ('Grade is C')\n",
    "    elif x>=50:\n",
    "        print ('Grade is D')\n",
    "    else :\n",
    "        print ('Grade is F')\n",
    "else :\n",
    "    print('Enter a valid percentage')"
   ]
  },
  {
   "cell_type": "markdown",
   "id": "00f6090d",
   "metadata": {},
   "source": [
    "# Write a program that prints the first `n` natural numbers."
   ]
  },
  {
   "cell_type": "code",
   "execution_count": 7,
   "id": "b9dec8e2",
   "metadata": {},
   "outputs": [
    {
     "name": "stdout",
     "output_type": "stream",
     "text": [
      "Enter any positive number\n",
      "The number is = 100\n",
      "1\n",
      "2\n",
      "3\n",
      "4\n",
      "5\n",
      "6\n",
      "7\n",
      "8\n",
      "9\n",
      "10\n",
      "11\n",
      "12\n",
      "13\n",
      "14\n",
      "15\n",
      "16\n",
      "17\n",
      "18\n",
      "19\n",
      "20\n",
      "21\n",
      "22\n",
      "23\n",
      "24\n",
      "25\n",
      "26\n",
      "27\n",
      "28\n",
      "29\n",
      "30\n",
      "31\n",
      "32\n",
      "33\n",
      "34\n",
      "35\n",
      "36\n",
      "37\n",
      "38\n",
      "39\n",
      "40\n",
      "41\n",
      "42\n",
      "43\n",
      "44\n",
      "45\n",
      "46\n",
      "47\n",
      "48\n",
      "49\n",
      "50\n",
      "51\n",
      "52\n",
      "53\n",
      "54\n",
      "55\n",
      "56\n",
      "57\n",
      "58\n",
      "59\n",
      "60\n",
      "61\n",
      "62\n",
      "63\n",
      "64\n",
      "65\n",
      "66\n",
      "67\n",
      "68\n",
      "69\n",
      "70\n",
      "71\n",
      "72\n",
      "73\n",
      "74\n",
      "75\n",
      "76\n",
      "77\n",
      "78\n",
      "79\n",
      "80\n",
      "81\n",
      "82\n",
      "83\n",
      "84\n",
      "85\n",
      "86\n",
      "87\n",
      "88\n",
      "89\n",
      "90\n",
      "91\n",
      "92\n",
      "93\n",
      "94\n",
      "95\n",
      "96\n",
      "97\n",
      "98\n",
      "99\n",
      "100\n"
     ]
    }
   ],
   "source": [
    "print ('Enter any positive number')\n",
    "n = int (input('The number is = '))\n",
    "if n>0:\n",
    "    for i in range (1,n+1):\n",
    "        print (i)\n",
    "else : print('Enter a natural number')"
   ]
  },
  {
   "cell_type": "markdown",
   "id": "35b60bf0",
   "metadata": {},
   "source": [
    "Write a program that calculates the factorial of a number."
   ]
  },
  {
   "cell_type": "code",
   "execution_count": 2,
   "id": "f4a90480",
   "metadata": {},
   "outputs": [
    {
     "name": "stdout",
     "output_type": "stream",
     "text": [
      "Enter the number = 20\n",
      "Factorial of 20 is 2432902008176640000\n"
     ]
    }
   ],
   "source": [
    "n = int(input('Enter the number = '))\n",
    "x = 1\n",
    "for i in range (1,n+1):\n",
    "    x =i*x\n",
    "    \n",
    "    \n",
    "print('Factorial of {} is {}'.format(n,x))\n",
    "      \n"
   ]
  },
  {
   "cell_type": "markdown",
   "id": "b187e895",
   "metadata": {},
   "source": [
    "Write a program that generates a Fibonacci sequence of length `n`."
   ]
  },
  {
   "cell_type": "code",
   "execution_count": 9,
   "id": "8bbd22c0",
   "metadata": {},
   "outputs": [
    {
     "name": "stdout",
     "output_type": "stream",
     "text": [
      "Enter the number 10\n",
      " 1  2  3  5  8  13  21  34 "
     ]
    }
   ],
   "source": [
    "n1=0\n",
    "n2 = 1\n",
    "sum = 0\n",
    "x =int (input('Enter the number '))\n",
    "\n",
    "for i in range(2,x):\n",
    "    sum = n1+n2\n",
    "    print (' {}'.format(sum),end = (' '))\n",
    "    n1=n2\n",
    "    n2=sum"
   ]
  },
  {
   "cell_type": "markdown",
   "id": "0f05a51a",
   "metadata": {},
   "source": [
    "Write a program that checks if a given number is prime or not"
   ]
  },
  {
   "cell_type": "code",
   "execution_count": 36,
   "id": "c7cc9f57",
   "metadata": {},
   "outputs": [
    {
     "name": "stdout",
     "output_type": "stream",
     "text": [
      "Enter the number 4\n",
      "4 is not a prime number\n"
     ]
    }
   ],
   "source": [
    "#num = int(input('Enter the number '))\n",
    "n = int(input('Enter the number '))\n",
    "if (n>1):\n",
    "      for i in range (2, int(n/2)+1):\n",
    "            if (n % i) == 0:\n",
    "                    print(n, \"is not a prime number\")\n",
    "                    break\n",
    "            else:\n",
    "                print(n, \"is a prime number\")\n",
    "else:\n",
    "    print('Not Prime number')      "
   ]
  },
  {
   "cell_type": "markdown",
   "id": "6abbb5de",
   "metadata": {},
   "source": [
    "Write a program that prints the multiplication table of a given number."
   ]
  },
  {
   "cell_type": "code",
   "execution_count": 37,
   "id": "c22ab6e7",
   "metadata": {},
   "outputs": [
    {
     "name": "stdout",
     "output_type": "stream",
     "text": [
      "Enter the number of which the user wants to print the multiplication table: 13\n",
      "The Multiplication Table of:  13\n",
      "13 x 1 = 13\n",
      "13 x 2 = 26\n",
      "13 x 3 = 39\n",
      "13 x 4 = 52\n",
      "13 x 5 = 65\n",
      "13 x 6 = 78\n",
      "13 x 7 = 91\n",
      "13 x 8 = 104\n",
      "13 x 9 = 117\n",
      "13 x 10 = 130\n"
     ]
    }
   ],
   "source": [
    "number = int(input (\"Enter the number of which the user wants to print the multiplication table: \"))      \n",
    "      \n",
    "print (\"The Multiplication Table of: \", number)    \n",
    "for count in range(1, 11):      \n",
    "    print (number, 'x', count, '=', number * count)    "
   ]
  },
  {
   "cell_type": "markdown",
   "id": "10e93160",
   "metadata": {},
   "source": [
    "Write a program that finds the sum of all even numbers between 1 and `n`."
   ]
  },
  {
   "cell_type": "code",
   "execution_count": 38,
   "id": "c26aea4c",
   "metadata": {},
   "outputs": [
    {
     "name": "stdout",
     "output_type": "stream",
     "text": [
      "Enter a number: 10\n",
      "0\n",
      "2\n",
      "4\n",
      "6\n",
      "8\n",
      "10\n",
      "Sum of all the even numbers is 30\n"
     ]
    }
   ],
   "source": [
    "num = int(input('Enter a number: '))\n",
    "sum = 0\n",
    "i = 0\n",
    "while i <= num:\n",
    "    if i % 2 == 0:\n",
    "        print(i)\n",
    "        sum+=i\n",
    "    i+=1\n",
    "print(f\"Sum of all the even numbers is {sum}\")"
   ]
  },
  {
   "cell_type": "markdown",
   "id": "0e5b4431",
   "metadata": {},
   "source": [
    "Write a program that reverses a given number."
   ]
  },
  {
   "cell_type": "code",
   "execution_count": 40,
   "id": "13f8e8ac",
   "metadata": {},
   "outputs": [
    {
     "name": "stdout",
     "output_type": "stream",
     "text": [
      "Enter the number = 120\n",
      "Reversed Number: 21\n"
     ]
    }
   ],
   "source": [
    "num = int(input('Enter the number = '))\n",
    "reversed_num = 0\n",
    "\n",
    "while num != 0:\n",
    "    digit = num % 10\n",
    "    reversed_num = reversed_num * 10 + digit\n",
    "    num //= 10\n",
    "\n",
    "print(\"Reversed Number: \" + str(reversed_num))"
   ]
  },
  {
   "cell_type": "markdown",
   "id": "23e795f3",
   "metadata": {},
   "source": [
    "Write a program that checks if a given string is a palindrome."
   ]
  },
  {
   "cell_type": "code",
   "execution_count": 43,
   "id": "5d510882",
   "metadata": {},
   "outputs": [
    {
     "name": "stdout",
     "output_type": "stream",
     "text": [
      "Enter the string = Thank you\n",
      "The string is not a palindrome.\n"
     ]
    }
   ],
   "source": [
    "value = str(input('Enter the string = '))\n",
    "value = value.casefold()\n",
    "rev_str = reversed(value)\n",
    "\n",
    "\n",
    "if list(value) == list(rev_str):\n",
    "   print(\"The string is a palindrome.\")\n",
    "else:\n",
    "   print(\"The string is not a palindrome.\")"
   ]
  },
  {
   "cell_type": "markdown",
   "id": "7c5d6384",
   "metadata": {},
   "source": [
    "Write a program that generates a random number and allows the user to guess it."
   ]
  },
  {
   "cell_type": "code",
   "execution_count": null,
   "id": "fee9b20f",
   "metadata": {},
   "outputs": [
    {
     "name": "stdout",
     "output_type": "stream",
     "text": [
      "guess a number between 1 and 10: 5\n",
      "nope, sorry. try again!\n"
     ]
    }
   ],
   "source": [
    "import random\n",
    "num = random.randint(1, 10)\n",
    "guess = None\n",
    "\n",
    "while guess != num:\n",
    "    guess = input(\"guess a number between 1 and 10: \")\n",
    "    guess = int(guess)\n",
    "\n",
    "    if guess == num:\n",
    "        print(\"Right Number\")\n",
    "        break\n",
    "    else:\n",
    "        print(\"wrong number\")"
   ]
  },
  {
   "cell_type": "markdown",
   "id": "92653b45",
   "metadata": {},
   "source": [
    "Write a program that finds the greatest common divisor (GCD) of two numbers."
   ]
  },
  {
   "cell_type": "code",
   "execution_count": 6,
   "id": "f605c73b",
   "metadata": {},
   "outputs": [
    {
     "name": "stdout",
     "output_type": "stream",
     "text": [
      "Enter number x = 12\n",
      "enter number y = 5\n",
      "GCD of 12 and 5 is\n"
     ]
    }
   ],
   "source": [
    "x = int (input('Enter number x = '))\n",
    "y = int (input('enter number y = '))\n",
    "gcd = 1\n",
    "\n",
    "if x % y == 0:\n",
    "         for k in range(int(y/2), 0, -1):\n",
    "                        if x % k == 0 and y % k == 0:                \n",
    "                           gcd = k\n",
    "                        break\n",
    "                    \n",
    "\n",
    "print('GCD of {} and {} is'.format(x,y))"
   ]
  }
 ],
 "metadata": {
  "kernelspec": {
   "display_name": "Python 3 (ipykernel)",
   "language": "python",
   "name": "python3"
  },
  "language_info": {
   "codemirror_mode": {
    "name": "ipython",
    "version": 3
   },
   "file_extension": ".py",
   "mimetype": "text/x-python",
   "name": "python",
   "nbconvert_exporter": "python",
   "pygments_lexer": "ipython3",
   "version": "3.11.5"
  }
 },
 "nbformat": 4,
 "nbformat_minor": 5
}
